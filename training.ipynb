{
 "cells": [
  {
   "cell_type": "markdown",
   "metadata": {},
   "source": [
    "### Spatially-Aware Just-in-Time Autoregressive Diffusion\n",
    "\n",
    "Convert an image into patches\n",
    "\n",
    "Apply noise jointly across spatial and temporal domains onto patches\n",
    "\n",
    "Predict the noise \n",
    "\n",
    "Lock in cell in the center and save that as the image"
   ]
  },
  {
   "cell_type": "code",
   "execution_count": 4,
   "metadata": {},
   "outputs": [
    {
     "name": "stdout",
     "output_type": "stream",
     "text": [
      "Cannot open display: \n",
      "Run “/usr/bin/shotwell --help” to see a full list of available command line options.\n"
     ]
    }
   ],
   "source": [
    "from PIL import Image\n",
    "\n",
    "data_path = \"../data/jpg/image_00001.jpg\"\n",
    "label_path = \"../data/jpg/imagelabels.mat\"\n",
    "\n",
    "image = Image.open(data_path)\n",
    "image.show()"
   ]
  }
 ],
 "metadata": {
  "kernelspec": {
   "display_name": "jitdiff",
   "language": "python",
   "name": "python3"
  },
  "language_info": {
   "codemirror_mode": {
    "name": "ipython",
    "version": 3
   },
   "file_extension": ".py",
   "mimetype": "text/x-python",
   "name": "python",
   "nbconvert_exporter": "python",
   "pygments_lexer": "ipython3",
   "version": "3.12.5"
  }
 },
 "nbformat": 4,
 "nbformat_minor": 2
}
